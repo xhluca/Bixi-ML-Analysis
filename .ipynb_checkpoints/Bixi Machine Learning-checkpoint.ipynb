{
 "cells": [
  {
   "cell_type": "code",
   "execution_count": 1,
   "metadata": {},
   "outputs": [],
   "source": [
    "import numpy as np\n",
    "import pandas as pd\n",
    "\n",
    "from sklearn.decomposition import PCA\n",
    "from sklearn.linear_model import LogisticRegression\n",
    "from sklearn.model_selection import cross_val_score\n",
    "from sklearn.ensemble import AdaBoostClassifier\n",
    "from sklearn.tree import DecisionTreeClassifier\n",
    "from sklearn.neural_network import MLPClassifier\n",
    "from sklearn.metrics import accuracy_score"
   ]
  },
  {
   "cell_type": "code",
   "execution_count": 2,
   "metadata": {
    "scrolled": true
   },
   "outputs": [
    {
     "name": "stdout",
     "output_type": "stream",
     "text": [
      "(859471, 6)\n"
     ]
    },
    {
     "data": {
      "text/html": [
       "<div>\n",
       "<style>\n",
       "    .dataframe thead tr:only-child th {\n",
       "        text-align: right;\n",
       "    }\n",
       "\n",
       "    .dataframe thead th {\n",
       "        text-align: left;\n",
       "    }\n",
       "\n",
       "    .dataframe tbody tr th {\n",
       "        vertical-align: top;\n",
       "    }\n",
       "</style>\n",
       "<table border=\"1\" class=\"dataframe\">\n",
       "  <thead>\n",
       "    <tr style=\"text-align: right;\">\n",
       "      <th></th>\n",
       "      <th>start_date</th>\n",
       "      <th>start_station_code</th>\n",
       "      <th>end_date</th>\n",
       "      <th>end_station_code</th>\n",
       "      <th>duration_sec</th>\n",
       "      <th>is_member</th>\n",
       "    </tr>\n",
       "  </thead>\n",
       "  <tbody>\n",
       "    <tr>\n",
       "      <th>0</th>\n",
       "      <td>2017-08-01 00:00</td>\n",
       "      <td>6381</td>\n",
       "      <td>2017-08-01 00:14</td>\n",
       "      <td>6113</td>\n",
       "      <td>875</td>\n",
       "      <td>1</td>\n",
       "    </tr>\n",
       "    <tr>\n",
       "      <th>1</th>\n",
       "      <td>2017-08-01 00:00</td>\n",
       "      <td>6128</td>\n",
       "      <td>2017-08-01 00:04</td>\n",
       "      <td>6119</td>\n",
       "      <td>229</td>\n",
       "      <td>1</td>\n",
       "    </tr>\n",
       "    <tr>\n",
       "      <th>2</th>\n",
       "      <td>2017-08-01 00:00</td>\n",
       "      <td>6141</td>\n",
       "      <td>2017-08-01 00:05</td>\n",
       "      <td>6177</td>\n",
       "      <td>302</td>\n",
       "      <td>1</td>\n",
       "    </tr>\n",
       "    <tr>\n",
       "      <th>3</th>\n",
       "      <td>2017-08-01 00:00</td>\n",
       "      <td>6224</td>\n",
       "      <td>2017-08-01 00:11</td>\n",
       "      <td>6912</td>\n",
       "      <td>638</td>\n",
       "      <td>1</td>\n",
       "    </tr>\n",
       "    <tr>\n",
       "      <th>4</th>\n",
       "      <td>2017-08-01 00:01</td>\n",
       "      <td>6113</td>\n",
       "      <td>2017-08-01 00:20</td>\n",
       "      <td>7076</td>\n",
       "      <td>1139</td>\n",
       "      <td>1</td>\n",
       "    </tr>\n",
       "  </tbody>\n",
       "</table>\n",
       "</div>"
      ],
      "text/plain": [
       "         start_date  start_station_code          end_date  end_station_code  \\\n",
       "0  2017-08-01 00:00                6381  2017-08-01 00:14              6113   \n",
       "1  2017-08-01 00:00                6128  2017-08-01 00:04              6119   \n",
       "2  2017-08-01 00:00                6141  2017-08-01 00:05              6177   \n",
       "3  2017-08-01 00:00                6224  2017-08-01 00:11              6912   \n",
       "4  2017-08-01 00:01                6113  2017-08-01 00:20              7076   \n",
       "\n",
       "   duration_sec  is_member  \n",
       "0           875          1  \n",
       "1           229          1  \n",
       "2           302          1  \n",
       "3           638          1  \n",
       "4          1139          1  "
      ]
     },
     "execution_count": 2,
     "metadata": {},
     "output_type": "execute_result"
    }
   ],
   "source": [
    "raw_df = pd.read_csv(\"data/2017/OD_2017-08.csv\")\n",
    "print(raw_df.shape)\n",
    "raw_df.head()"
   ]
  },
  {
   "cell_type": "code",
   "execution_count": 3,
   "metadata": {
    "scrolled": true
   },
   "outputs": [],
   "source": [
    "start_date_expanded = []\n",
    "\n",
    "for i in range(raw_df.shape[0]):\n",
    "    start_date = raw_df.loc[i, \"start_date\"]\n",
    "    date, time = start_date.split(\" \")\n",
    "    year, month, day = date.split(\"-\")\n",
    "    hour, minute = time.split(\":\")\n",
    "    \n",
    "    start_date_expanded.append([year, month, day, hour, minute])    \n",
    "\n",
    "start_date_expanded_df = pd.DataFrame(start_date_expanded, columns=[\"start_year\", \"start_month\", \"start_day\", \"start_hour\", \"start_min\"])"
   ]
  },
  {
   "cell_type": "code",
   "execution_count": 4,
   "metadata": {},
   "outputs": [],
   "source": [
    "end_date_expanded = []\n",
    "\n",
    "for i in range(raw_df.shape[0]):\n",
    "    end_date = raw_df.loc[i, \"end_date\"]\n",
    "    date, time = end_date.split(\" \")\n",
    "    year, month, day = date.split(\"-\")\n",
    "    hour, minute = time.split(\":\")\n",
    "    \n",
    "    end_date_expanded.append([year, month, day, hour, minute])    \n",
    "\n",
    "end_date_expanded_df = pd.DataFrame(end_date_expanded, columns=[\"end_year\", \"end_month\", \"end_day\", \"end_hour\", \"end_min\"])"
   ]
  },
  {
   "cell_type": "code",
   "execution_count": 5,
   "metadata": {
    "scrolled": false
   },
   "outputs": [
    {
     "name": "stdout",
     "output_type": "stream",
     "text": [
      "(859471, 14)\n"
     ]
    }
   ],
   "source": [
    "parsed_df = pd.concat([start_date_expanded_df, \n",
    "                       end_date_expanded_df,\n",
    "                       raw_df.loc[:,(\"start_station_code\", \"end_station_code\", \"duration_sec\", \"is_member\")]],\n",
    "                     axis=1)\n",
    "\n",
    "print(parsed_df.shape)\n",
    "parsed_df.to_csv(\"parsed_data.csv\", index=False)"
   ]
  },
  {
   "cell_type": "code",
   "execution_count": 6,
   "metadata": {
    "scrolled": true
   },
   "outputs": [
    {
     "name": "stdout",
     "output_type": "stream",
     "text": [
      "Sampled shape:  (50000, 14)\n",
      "X Shape: (50000, 1324)\n",
      "y Shape: (50000,)\n"
     ]
    }
   ],
   "source": [
    "sampled_df = parsed_df.sample(n=50000, axis=0)\n",
    "print(\"Sampled shape: \", sampled_df.shape)\n",
    "\n",
    "X_df = pd.get_dummies(sampled_df.drop(\"is_member\", 1), \n",
    "                      columns=[\"start_year\", \"start_month\", \"start_day\", \"start_hour\", \"start_min\",\n",
    "                               \"end_year\", \"end_month\", \"end_day\", \"end_hour\", \"end_min\",\n",
    "                               \"start_station_code\", \"end_station_code\"\n",
    "                              ])\n",
    "\n",
    "y_df = sampled_df[\"is_member\"]\n",
    "\n",
    "\n",
    "print(\"X Shape:\", X_df.shape)\n",
    "print(\"y Shape:\", y_df.shape)"
   ]
  },
  {
   "cell_type": "code",
   "execution_count": 7,
   "metadata": {
    "scrolled": true
   },
   "outputs": [
    {
     "name": "stdout",
     "output_type": "stream",
     "text": [
      "Index(['duration_sec', 'start_year_2017', 'start_month_08', 'start_day_01',\n",
      "       'start_day_02', 'start_day_03', 'start_day_04', 'start_day_05',\n",
      "       'start_day_06', 'start_day_07', 'start_day_08', 'start_day_09',\n",
      "       'start_day_10', 'start_day_11', 'start_day_12', 'start_day_13',\n",
      "       'start_day_14', 'start_day_15', 'start_day_16', 'start_day_17'],\n",
      "      dtype='object')\n",
      "Index(['start_station_code_6278', 'start_station_code_6279',\n",
      "       'start_station_code_6280', 'start_station_code_6281',\n",
      "       'start_station_code_6301', 'start_station_code_6302',\n",
      "       'start_station_code_6303', 'start_station_code_6304',\n",
      "       'start_station_code_6305', 'start_station_code_6306',\n",
      "       'start_station_code_6307', 'start_station_code_6309',\n",
      "       'start_station_code_6310', 'start_station_code_6311',\n",
      "       'start_station_code_6312'],\n",
      "      dtype='object')\n",
      "Index(['end_station_code_6229', 'end_station_code_6230',\n",
      "       'end_station_code_6231', 'end_station_code_6232',\n",
      "       'end_station_code_6233', 'end_station_code_6234',\n",
      "       'end_station_code_6235', 'end_station_code_6236',\n",
      "       'end_station_code_6237', 'end_station_code_6240',\n",
      "       'end_station_code_6241', 'end_station_code_6243',\n",
      "       'end_station_code_6245', 'end_station_code_6246',\n",
      "       'end_station_code_6247'],\n",
      "      dtype='object')\n",
      "Index(['end_station_code_7043', 'end_station_code_7044',\n",
      "       'end_station_code_7045', 'end_station_code_7046',\n",
      "       'end_station_code_7047', 'end_station_code_7048',\n",
      "       'end_station_code_7049', 'end_station_code_7050',\n",
      "       'end_station_code_7051', 'end_station_code_7052',\n",
      "       'end_station_code_7053', 'end_station_code_7054',\n",
      "       'end_station_code_7055', 'end_station_code_7056',\n",
      "       'end_station_code_7057'],\n",
      "      dtype='object')\n"
     ]
    }
   ],
   "source": [
    "print(X_df.columns[0:20])\n",
    "print(X_df.columns[500:515])\n",
    "print(X_df.columns[1000:1015])\n",
    "print(X_df.columns[1285:1300])"
   ]
  },
  {
   "cell_type": "code",
   "execution_count": 8,
   "metadata": {},
   "outputs": [
    {
     "data": {
      "text/plain": [
       "(50000, 5)"
      ]
     },
     "execution_count": 8,
     "metadata": {},
     "output_type": "execute_result"
    }
   ],
   "source": [
    "pca = PCA(n_components=5)\n",
    "X_reduced = pca.fit_transform(X_df, y_df)\n",
    "\n",
    "X_reduced.shape"
   ]
  },
  {
   "cell_type": "code",
   "execution_count": 9,
   "metadata": {
    "scrolled": true
   },
   "outputs": [
    {
     "name": "stdout",
     "output_type": "stream",
     "text": [
      "Logit: Accuracy Score: 0.81494\n",
      "\n",
      "Logit: Accuracy Score of 3-Fold Cross Validation: [ 0.81047516  0.80805232  0.80901236]\n",
      "Logit: F1 Score of 3-Fold Cross Validation: [ 0.88767201  0.88572143  0.88660896]\n",
      "Logit: Precision Score of 3-Fold Cross Validation: [ 0.82645832  0.8279017   0.82673399]\n"
     ]
    }
   ],
   "source": [
    "logit = LogisticRegression()\n",
    "\n",
    "logit.fit(X_df, y_df)\n",
    "acc_score = accuracy_score(y_df, logit.predict(X_df))\n",
    "\n",
    "print(\"Logit: Accuracy Score:\", acc_score)\n",
    "\n",
    "\n",
    "acc_score_cv = cross_val_score(logit, X_df, y_df, n_jobs=-1, scoring=\"accuracy\")\n",
    "f1_score_cv = cross_val_score(logit, X_df, y_df, n_jobs=-1, scoring=\"f1\")\n",
    "prec_score_cv = cross_val_score(logit, X_df, y_df, n_jobs=-1, scoring=\"precision\")\n",
    "\n",
    "print(\"\\nLogit: Accuracy Score of 3-Fold Cross Validation:\", acc_score_cv)\n",
    "print(\"Logit: F1 Score of 3-Fold Cross Validation:\", f1_score_cv)\n",
    "print(\"Logit: Precision Score of 3-Fold Cross Validation:\", prec_score_cv)"
   ]
  },
  {
   "cell_type": "code",
   "execution_count": 11,
   "metadata": {
    "collapsed": true
   },
   "outputs": [
    {
     "ename": "KeyboardInterrupt",
     "evalue": "",
     "output_type": "error",
     "traceback": [
      "\u001b[1;31m---------------------------------------------------------------------------\u001b[0m",
      "\u001b[1;31mKeyboardInterrupt\u001b[0m                         Traceback (most recent call last)",
      "\u001b[1;32m<ipython-input-11-1c16bdd871d1>\u001b[0m in \u001b[0;36m<module>\u001b[1;34m()\u001b[0m\n\u001b[0;32m      3\u001b[0m \u001b[0mcv_res\u001b[0m \u001b[1;33m=\u001b[0m \u001b[0mcross_val_score\u001b[0m\u001b[1;33m(\u001b[0m\u001b[0mb_dtr\u001b[0m\u001b[1;33m,\u001b[0m \u001b[0mX_df\u001b[0m\u001b[1;33m,\u001b[0m \u001b[0my_df\u001b[0m\u001b[1;33m,\u001b[0m \u001b[0mn_jobs\u001b[0m\u001b[1;33m=\u001b[0m\u001b[1;33m-\u001b[0m\u001b[1;36m1\u001b[0m\u001b[1;33m,\u001b[0m \u001b[0mscoring\u001b[0m\u001b[1;33m=\u001b[0m\u001b[1;34m\"accuracy\"\u001b[0m\u001b[1;33m)\u001b[0m\u001b[1;33m\u001b[0m\u001b[0m\n\u001b[0;32m      4\u001b[0m \u001b[0mf1_score_cv\u001b[0m \u001b[1;33m=\u001b[0m \u001b[0mcross_val_score\u001b[0m\u001b[1;33m(\u001b[0m\u001b[0mb_dtr\u001b[0m\u001b[1;33m,\u001b[0m \u001b[0mX_df\u001b[0m\u001b[1;33m,\u001b[0m \u001b[0my_df\u001b[0m\u001b[1;33m,\u001b[0m \u001b[0mn_jobs\u001b[0m\u001b[1;33m=\u001b[0m\u001b[1;33m-\u001b[0m\u001b[1;36m1\u001b[0m\u001b[1;33m,\u001b[0m \u001b[0mscoring\u001b[0m\u001b[1;33m=\u001b[0m\u001b[1;34m\"f1\"\u001b[0m\u001b[1;33m)\u001b[0m\u001b[1;33m\u001b[0m\u001b[0m\n\u001b[1;32m----> 5\u001b[1;33m \u001b[0mprec_score_cv\u001b[0m \u001b[1;33m=\u001b[0m \u001b[0mcross_val_score\u001b[0m\u001b[1;33m(\u001b[0m\u001b[0mb_dtr\u001b[0m\u001b[1;33m,\u001b[0m \u001b[0mX_df\u001b[0m\u001b[1;33m,\u001b[0m \u001b[0my_df\u001b[0m\u001b[1;33m,\u001b[0m \u001b[0mn_jobs\u001b[0m\u001b[1;33m=\u001b[0m\u001b[1;33m-\u001b[0m\u001b[1;36m1\u001b[0m\u001b[1;33m,\u001b[0m \u001b[0mscoring\u001b[0m\u001b[1;33m=\u001b[0m\u001b[1;34m\"precision\"\u001b[0m\u001b[1;33m)\u001b[0m\u001b[1;33m\u001b[0m\u001b[0m\n\u001b[0m\u001b[0;32m      6\u001b[0m \u001b[1;33m\u001b[0m\u001b[0m\n\u001b[0;32m      7\u001b[0m \u001b[0mprint\u001b[0m\u001b[1;33m(\u001b[0m\u001b[1;34mf\"B-DTR_4: Accuracy Score of 3-Fold Cross Validation:\"\u001b[0m\u001b[1;33m,\u001b[0m \u001b[0mcv_res\u001b[0m\u001b[1;33m)\u001b[0m\u001b[1;33m\u001b[0m\u001b[0m\n",
      "\u001b[1;32m~\\AppData\\Local\\Continuum\\anaconda3\\lib\\site-packages\\sklearn\\model_selection\\_validation.py\u001b[0m in \u001b[0;36mcross_val_score\u001b[1;34m(estimator, X, y, groups, scoring, cv, n_jobs, verbose, fit_params, pre_dispatch)\u001b[0m\n\u001b[0;32m    340\u001b[0m                                 \u001b[0mn_jobs\u001b[0m\u001b[1;33m=\u001b[0m\u001b[0mn_jobs\u001b[0m\u001b[1;33m,\u001b[0m \u001b[0mverbose\u001b[0m\u001b[1;33m=\u001b[0m\u001b[0mverbose\u001b[0m\u001b[1;33m,\u001b[0m\u001b[1;33m\u001b[0m\u001b[0m\n\u001b[0;32m    341\u001b[0m                                 \u001b[0mfit_params\u001b[0m\u001b[1;33m=\u001b[0m\u001b[0mfit_params\u001b[0m\u001b[1;33m,\u001b[0m\u001b[1;33m\u001b[0m\u001b[0m\n\u001b[1;32m--> 342\u001b[1;33m                                 pre_dispatch=pre_dispatch)\n\u001b[0m\u001b[0;32m    343\u001b[0m     \u001b[1;32mreturn\u001b[0m \u001b[0mcv_results\u001b[0m\u001b[1;33m[\u001b[0m\u001b[1;34m'test_score'\u001b[0m\u001b[1;33m]\u001b[0m\u001b[1;33m\u001b[0m\u001b[0m\n\u001b[0;32m    344\u001b[0m \u001b[1;33m\u001b[0m\u001b[0m\n",
      "\u001b[1;32m~\\AppData\\Local\\Continuum\\anaconda3\\lib\\site-packages\\sklearn\\model_selection\\_validation.py\u001b[0m in \u001b[0;36mcross_validate\u001b[1;34m(estimator, X, y, groups, scoring, cv, n_jobs, verbose, fit_params, pre_dispatch, return_train_score)\u001b[0m\n\u001b[0;32m    204\u001b[0m             \u001b[0mfit_params\u001b[0m\u001b[1;33m,\u001b[0m \u001b[0mreturn_train_score\u001b[0m\u001b[1;33m=\u001b[0m\u001b[0mreturn_train_score\u001b[0m\u001b[1;33m,\u001b[0m\u001b[1;33m\u001b[0m\u001b[0m\n\u001b[0;32m    205\u001b[0m             return_times=True)\n\u001b[1;32m--> 206\u001b[1;33m         for train, test in cv.split(X, y, groups))\n\u001b[0m\u001b[0;32m    207\u001b[0m \u001b[1;33m\u001b[0m\u001b[0m\n\u001b[0;32m    208\u001b[0m     \u001b[1;32mif\u001b[0m \u001b[0mreturn_train_score\u001b[0m\u001b[1;33m:\u001b[0m\u001b[1;33m\u001b[0m\u001b[0m\n",
      "\u001b[1;32m~\\AppData\\Local\\Continuum\\anaconda3\\lib\\site-packages\\sklearn\\externals\\joblib\\parallel.py\u001b[0m in \u001b[0;36m__call__\u001b[1;34m(self, iterable)\u001b[0m\n\u001b[0;32m    787\u001b[0m                 \u001b[1;31m# consumption.\u001b[0m\u001b[1;33m\u001b[0m\u001b[1;33m\u001b[0m\u001b[0m\n\u001b[0;32m    788\u001b[0m                 \u001b[0mself\u001b[0m\u001b[1;33m.\u001b[0m\u001b[0m_iterating\u001b[0m \u001b[1;33m=\u001b[0m \u001b[1;32mFalse\u001b[0m\u001b[1;33m\u001b[0m\u001b[0m\n\u001b[1;32m--> 789\u001b[1;33m             \u001b[0mself\u001b[0m\u001b[1;33m.\u001b[0m\u001b[0mretrieve\u001b[0m\u001b[1;33m(\u001b[0m\u001b[1;33m)\u001b[0m\u001b[1;33m\u001b[0m\u001b[0m\n\u001b[0m\u001b[0;32m    790\u001b[0m             \u001b[1;31m# Make sure that we get a last message telling us we are done\u001b[0m\u001b[1;33m\u001b[0m\u001b[1;33m\u001b[0m\u001b[0m\n\u001b[0;32m    791\u001b[0m             \u001b[0melapsed_time\u001b[0m \u001b[1;33m=\u001b[0m \u001b[0mtime\u001b[0m\u001b[1;33m.\u001b[0m\u001b[0mtime\u001b[0m\u001b[1;33m(\u001b[0m\u001b[1;33m)\u001b[0m \u001b[1;33m-\u001b[0m \u001b[0mself\u001b[0m\u001b[1;33m.\u001b[0m\u001b[0m_start_time\u001b[0m\u001b[1;33m\u001b[0m\u001b[0m\n",
      "\u001b[1;32m~\\AppData\\Local\\Continuum\\anaconda3\\lib\\site-packages\\sklearn\\externals\\joblib\\parallel.py\u001b[0m in \u001b[0;36mretrieve\u001b[1;34m(self)\u001b[0m\n\u001b[0;32m    697\u001b[0m             \u001b[1;32mtry\u001b[0m\u001b[1;33m:\u001b[0m\u001b[1;33m\u001b[0m\u001b[0m\n\u001b[0;32m    698\u001b[0m                 \u001b[1;32mif\u001b[0m \u001b[0mgetattr\u001b[0m\u001b[1;33m(\u001b[0m\u001b[0mself\u001b[0m\u001b[1;33m.\u001b[0m\u001b[0m_backend\u001b[0m\u001b[1;33m,\u001b[0m \u001b[1;34m'supports_timeout'\u001b[0m\u001b[1;33m,\u001b[0m \u001b[1;32mFalse\u001b[0m\u001b[1;33m)\u001b[0m\u001b[1;33m:\u001b[0m\u001b[1;33m\u001b[0m\u001b[0m\n\u001b[1;32m--> 699\u001b[1;33m                     \u001b[0mself\u001b[0m\u001b[1;33m.\u001b[0m\u001b[0m_output\u001b[0m\u001b[1;33m.\u001b[0m\u001b[0mextend\u001b[0m\u001b[1;33m(\u001b[0m\u001b[0mjob\u001b[0m\u001b[1;33m.\u001b[0m\u001b[0mget\u001b[0m\u001b[1;33m(\u001b[0m\u001b[0mtimeout\u001b[0m\u001b[1;33m=\u001b[0m\u001b[0mself\u001b[0m\u001b[1;33m.\u001b[0m\u001b[0mtimeout\u001b[0m\u001b[1;33m)\u001b[0m\u001b[1;33m)\u001b[0m\u001b[1;33m\u001b[0m\u001b[0m\n\u001b[0m\u001b[0;32m    700\u001b[0m                 \u001b[1;32melse\u001b[0m\u001b[1;33m:\u001b[0m\u001b[1;33m\u001b[0m\u001b[0m\n\u001b[0;32m    701\u001b[0m                     \u001b[0mself\u001b[0m\u001b[1;33m.\u001b[0m\u001b[0m_output\u001b[0m\u001b[1;33m.\u001b[0m\u001b[0mextend\u001b[0m\u001b[1;33m(\u001b[0m\u001b[0mjob\u001b[0m\u001b[1;33m.\u001b[0m\u001b[0mget\u001b[0m\u001b[1;33m(\u001b[0m\u001b[1;33m)\u001b[0m\u001b[1;33m)\u001b[0m\u001b[1;33m\u001b[0m\u001b[0m\n",
      "\u001b[1;32m~\\AppData\\Local\\Continuum\\anaconda3\\lib\\multiprocessing\\pool.py\u001b[0m in \u001b[0;36mget\u001b[1;34m(self, timeout)\u001b[0m\n\u001b[0;32m    636\u001b[0m \u001b[1;33m\u001b[0m\u001b[0m\n\u001b[0;32m    637\u001b[0m     \u001b[1;32mdef\u001b[0m \u001b[0mget\u001b[0m\u001b[1;33m(\u001b[0m\u001b[0mself\u001b[0m\u001b[1;33m,\u001b[0m \u001b[0mtimeout\u001b[0m\u001b[1;33m=\u001b[0m\u001b[1;32mNone\u001b[0m\u001b[1;33m)\u001b[0m\u001b[1;33m:\u001b[0m\u001b[1;33m\u001b[0m\u001b[0m\n\u001b[1;32m--> 638\u001b[1;33m         \u001b[0mself\u001b[0m\u001b[1;33m.\u001b[0m\u001b[0mwait\u001b[0m\u001b[1;33m(\u001b[0m\u001b[0mtimeout\u001b[0m\u001b[1;33m)\u001b[0m\u001b[1;33m\u001b[0m\u001b[0m\n\u001b[0m\u001b[0;32m    639\u001b[0m         \u001b[1;32mif\u001b[0m \u001b[1;32mnot\u001b[0m \u001b[0mself\u001b[0m\u001b[1;33m.\u001b[0m\u001b[0mready\u001b[0m\u001b[1;33m(\u001b[0m\u001b[1;33m)\u001b[0m\u001b[1;33m:\u001b[0m\u001b[1;33m\u001b[0m\u001b[0m\n\u001b[0;32m    640\u001b[0m             \u001b[1;32mraise\u001b[0m \u001b[0mTimeoutError\u001b[0m\u001b[1;33m\u001b[0m\u001b[0m\n",
      "\u001b[1;32m~\\AppData\\Local\\Continuum\\anaconda3\\lib\\multiprocessing\\pool.py\u001b[0m in \u001b[0;36mwait\u001b[1;34m(self, timeout)\u001b[0m\n\u001b[0;32m    633\u001b[0m \u001b[1;33m\u001b[0m\u001b[0m\n\u001b[0;32m    634\u001b[0m     \u001b[1;32mdef\u001b[0m \u001b[0mwait\u001b[0m\u001b[1;33m(\u001b[0m\u001b[0mself\u001b[0m\u001b[1;33m,\u001b[0m \u001b[0mtimeout\u001b[0m\u001b[1;33m=\u001b[0m\u001b[1;32mNone\u001b[0m\u001b[1;33m)\u001b[0m\u001b[1;33m:\u001b[0m\u001b[1;33m\u001b[0m\u001b[0m\n\u001b[1;32m--> 635\u001b[1;33m         \u001b[0mself\u001b[0m\u001b[1;33m.\u001b[0m\u001b[0m_event\u001b[0m\u001b[1;33m.\u001b[0m\u001b[0mwait\u001b[0m\u001b[1;33m(\u001b[0m\u001b[0mtimeout\u001b[0m\u001b[1;33m)\u001b[0m\u001b[1;33m\u001b[0m\u001b[0m\n\u001b[0m\u001b[0;32m    636\u001b[0m \u001b[1;33m\u001b[0m\u001b[0m\n\u001b[0;32m    637\u001b[0m     \u001b[1;32mdef\u001b[0m \u001b[0mget\u001b[0m\u001b[1;33m(\u001b[0m\u001b[0mself\u001b[0m\u001b[1;33m,\u001b[0m \u001b[0mtimeout\u001b[0m\u001b[1;33m=\u001b[0m\u001b[1;32mNone\u001b[0m\u001b[1;33m)\u001b[0m\u001b[1;33m:\u001b[0m\u001b[1;33m\u001b[0m\u001b[0m\n",
      "\u001b[1;32m~\\AppData\\Local\\Continuum\\anaconda3\\lib\\threading.py\u001b[0m in \u001b[0;36mwait\u001b[1;34m(self, timeout)\u001b[0m\n\u001b[0;32m    549\u001b[0m             \u001b[0msignaled\u001b[0m \u001b[1;33m=\u001b[0m \u001b[0mself\u001b[0m\u001b[1;33m.\u001b[0m\u001b[0m_flag\u001b[0m\u001b[1;33m\u001b[0m\u001b[0m\n\u001b[0;32m    550\u001b[0m             \u001b[1;32mif\u001b[0m \u001b[1;32mnot\u001b[0m \u001b[0msignaled\u001b[0m\u001b[1;33m:\u001b[0m\u001b[1;33m\u001b[0m\u001b[0m\n\u001b[1;32m--> 551\u001b[1;33m                 \u001b[0msignaled\u001b[0m \u001b[1;33m=\u001b[0m \u001b[0mself\u001b[0m\u001b[1;33m.\u001b[0m\u001b[0m_cond\u001b[0m\u001b[1;33m.\u001b[0m\u001b[0mwait\u001b[0m\u001b[1;33m(\u001b[0m\u001b[0mtimeout\u001b[0m\u001b[1;33m)\u001b[0m\u001b[1;33m\u001b[0m\u001b[0m\n\u001b[0m\u001b[0;32m    552\u001b[0m             \u001b[1;32mreturn\u001b[0m \u001b[0msignaled\u001b[0m\u001b[1;33m\u001b[0m\u001b[0m\n\u001b[0;32m    553\u001b[0m \u001b[1;33m\u001b[0m\u001b[0m\n",
      "\u001b[1;32m~\\AppData\\Local\\Continuum\\anaconda3\\lib\\threading.py\u001b[0m in \u001b[0;36mwait\u001b[1;34m(self, timeout)\u001b[0m\n\u001b[0;32m    293\u001b[0m         \u001b[1;32mtry\u001b[0m\u001b[1;33m:\u001b[0m    \u001b[1;31m# restore state no matter what (e.g., KeyboardInterrupt)\u001b[0m\u001b[1;33m\u001b[0m\u001b[0m\n\u001b[0;32m    294\u001b[0m             \u001b[1;32mif\u001b[0m \u001b[0mtimeout\u001b[0m \u001b[1;32mis\u001b[0m \u001b[1;32mNone\u001b[0m\u001b[1;33m:\u001b[0m\u001b[1;33m\u001b[0m\u001b[0m\n\u001b[1;32m--> 295\u001b[1;33m                 \u001b[0mwaiter\u001b[0m\u001b[1;33m.\u001b[0m\u001b[0macquire\u001b[0m\u001b[1;33m(\u001b[0m\u001b[1;33m)\u001b[0m\u001b[1;33m\u001b[0m\u001b[0m\n\u001b[0m\u001b[0;32m    296\u001b[0m                 \u001b[0mgotit\u001b[0m \u001b[1;33m=\u001b[0m \u001b[1;32mTrue\u001b[0m\u001b[1;33m\u001b[0m\u001b[0m\n\u001b[0;32m    297\u001b[0m             \u001b[1;32melse\u001b[0m\u001b[1;33m:\u001b[0m\u001b[1;33m\u001b[0m\u001b[0m\n",
      "\u001b[1;31mKeyboardInterrupt\u001b[0m: "
     ]
    }
   ],
   "source": [
    "b_dtr = AdaBoostClassifier(DecisionTreeClassifier(max_depth=4))\n",
    "\n",
    "cv_res = cross_val_score(b_dtr, X_df, y_df, n_jobs=-1, scoring=\"accuracy\")\n",
    "f1_score_cv = cross_val_score(b_dtr, X_df, y_df, n_jobs=-1, scoring=\"f1\")\n",
    "prec_score_cv = cross_val_score(b_dtr, X_df, y_df, n_jobs=-1, scoring=\"precision\")\n",
    "\n",
    "print(f\"B-DTR_4: Accuracy Score of 3-Fold Cross Validation:\", cv_res)\n",
    "print(\"B-DTR_4: F1 Score of 3-Fold Cross Validation:\", f1_score_cv)\n",
    "print(\"B-DTR_4: Precision Score of 3-Fold Cross Validation:\", prec_score_cv)"
   ]
  },
  {
   "cell_type": "code",
   "execution_count": 10,
   "metadata": {},
   "outputs": [
    {
     "name": "stdout",
     "output_type": "stream",
     "text": [
      "Logit + PCA: Accuracy Score of 3-Fold Cross Validation: [ 0.7862971   0.78231129  0.78459138]\n",
      "Logit + PCA: F1 Score of 3-Fold Cross Validation: [ 0.87683264  0.87433322  0.87580433]\n",
      "Logit + PCA: Precision Score of 3-Fold Cross Validation: [ 0.79742138  0.79622737  0.79675206]\n"
     ]
    }
   ],
   "source": [
    "logit = LogisticRegression()\n",
    "\n",
    "cv_res = cross_val_score(logit, X_reduced, y_df, n_jobs=-1, scoring=\"accuracy\")\n",
    "f1_score_cv = cross_val_score(logit, X_reduced, y_df, n_jobs=-1, scoring=\"f1\")\n",
    "prec_score_cv = cross_val_score(logit, X_reduced, y_df, n_jobs=-1, scoring=\"precision\")\n",
    "\n",
    "print(\"Logit + PCA: Accuracy Score of 3-Fold Cross Validation:\", cv_res)\n",
    "print(\"Logit + PCA: F1 Score of 3-Fold Cross Validation:\", f1_score_cv)\n",
    "print(\"Logit + PCA: Precision Score of 3-Fold Cross Validation:\", prec_score_cv)"
   ]
  },
  {
   "cell_type": "code",
   "execution_count": 11,
   "metadata": {},
   "outputs": [
    {
     "name": "stdout",
     "output_type": "stream",
     "text": [
      "1-layer Neural Nets: Accuracy Score on Traning Data 0.80912\n"
     ]
    }
   ],
   "source": [
    "neural_net = MLPClassifier(hidden_layer_sizes=(1323,))\n",
    "neural_net.fit(X_df, y_df)\n",
    "acc_score = accuracy_score(y_df, neural_net.predict(X_df))\n",
    "\n",
    "# cv_res = cross_val_score(neural_net, X_df, y_df, n_jobs=2, scoring=\"accuracy\")\n",
    "# f1_score_cv = cross_val_score(neural_net, X_df, y_df, n_jobs=-1, scoring=\"f1\")\n",
    "# prec_score_cv = cross_val_score(neural_net, X_df, y_df, n_jobs=-1, scoring=\"precision\")\n",
    "\n",
    "print(\"1-layer Neural Nets: Accuracy Score on Traning Data\", acc_score)\n",
    "# print(f\"1-layer Neural Nets: Accuracy Score of 3-Fold Cross Validation:\", cv_res)\n",
    "# print(f\"1-layer Neural Nets: F1 Score of 3-Fold Cross Validation:\", f1_score_cv)\n",
    "# print(f\"1-layer Neural Nets: Precision Score of 3-Fold Cross Validation:\", prec_score_cv)"
   ]
  },
  {
   "cell_type": "code",
   "execution_count": null,
   "metadata": {},
   "outputs": [],
   "source": [
    "neural_net = MLPClassifier(hidden_layer_sizes=(1323,1150), batch_size=64)\n",
    "neural_net.fit(X_df, y_df)\n",
    "acc_score = accuracy_score(y_df, neural_net.predict(X_df))\n",
    "\n",
    "cv_res = cross_val_score(b_dtr, X_df, y_df, n_jobs=2, scoring=\"accuracy\")\n",
    "# f1_score_cv = cross_val_score(b_dtr, X_df, y_df, n_jobs=-1, scoring=\"f1\")\n",
    "# prec_score_cv = cross_val_score(b_dtr, X_df, y_df, n_jobs=-1, scoring=\"precision\")\n",
    "\n",
    "print(\"2-layer Neural Nets: Accuracy Score on Traning Data\", acc_score)\n",
    "print(f\"2-layer Neural Nets: Accuracy Score of 3-Fold Cross Validation:\", cv_res)\n",
    "# print(f\"2-layer Neural Nets: F1 Score of 3-Fold Cross Validation:\", f1_score_cv)\n",
    "# print(f\"2-layer Neural Nets: Precision Score of 3-Fold Cross Validation:\", prec_score_cv)"
   ]
  },
  {
   "cell_type": "code",
   "execution_count": 33,
   "metadata": {},
   "outputs": [
    {
     "name": "stdout",
     "output_type": "stream",
     "text": [
      "Sampled shape:  (100000, 14)\n",
      "train_data shape:  (50000, 1325)\n",
      "test_data shape:  (50000, 1325)\n"
     ]
    }
   ],
   "source": [
    "from sklearn.model_selection import train_test_split\n",
    "\n",
    "# Take a new sample\n",
    "sampled_df = parsed_df.sample(n=100000, axis=0)\n",
    "print(\"Sampled shape: \", sampled_df.shape)\n",
    "\n",
    "# Getting dummies\n",
    "data_dum = pd.get_dummies(sampled_df, \n",
    "                      columns=[\"start_year\", \"start_month\", \"start_day\", \"start_hour\", \"start_min\",\n",
    "                               \"end_year\", \"end_month\", \"end_day\", \"end_hour\", \"end_min\",\n",
    "                               \"start_station_code\", \"end_station_code\"\n",
    "                              ])\n",
    "\n",
    "# Split data\n",
    "train_data, test_data = train_test_split(data_dum, test_size=0.5, random_state=1)\n",
    "\n",
    "print(\"train_data shape: \", train_data.shape)\n",
    "print(\"test_data shape: \", test_data.shape)"
   ]
  },
  {
   "cell_type": "code",
   "execution_count": 34,
   "metadata": {},
   "outputs": [
    {
     "name": "stdout",
     "output_type": "stream",
     "text": [
      "test_data_zeros shape: (10843, 1325)\n",
      "test_data_ones shape: (39157, 1325)\n",
      "\n",
      "new test_data_zeros shape: (10000, 1325)\n",
      "new test_data_ones shape: (10000, 1325)\n"
     ]
    }
   ],
   "source": [
    "# Take a subset of the test data that will be ones, another of zeros\n",
    "test_data_zeros = test_data[test_data[\"is_member\"] == 0]\n",
    "test_data_ones = test_data[test_data[\"is_member\"] == 1]\n",
    "\n",
    "print(\"test_data_zeros shape:\", test_data_zeros.shape)\n",
    "print(\"test_data_ones shape:\", test_data_ones.shape)\n",
    "\n",
    "# Take only 10000 from each\n",
    "test_data_zeros = test_data_zeros.sample(n=10000, axis=0)\n",
    "test_data_ones = test_data_ones.sample(n=10000, axis=0)\n",
    "\n",
    "print(\"\\nnew test_data_zeros shape:\", test_data_zeros.shape)\n",
    "print(\"new test_data_ones shape:\", test_data_ones.shape)"
   ]
  },
  {
   "cell_type": "code",
   "execution_count": 41,
   "metadata": {},
   "outputs": [
    {
     "name": "stdout",
     "output_type": "stream",
     "text": [
      "X_train shape: (50000, 1324)\n",
      "y_train shape: (50000,)\n",
      "\n",
      "X_test_zeros shape: (10000, 1324)\n",
      "y_test_zeros shape: (10000,)\n",
      "\n",
      "X_test_ones shape: (10000, 1324)\n",
      "y_test_ones shape: (10000,)\n"
     ]
    }
   ],
   "source": [
    "# Splitting X and Y\n",
    "X_train = train_data.drop(\"is_member\", 1)\n",
    "y_train = train_data[\"is_member\"]\n",
    "\n",
    "X_test_zeros = test_data_zeros.drop(\"is_member\", 1)\n",
    "y_test_zeros = test_data_zeros[\"is_member\"]\n",
    "\n",
    "X_test_ones = test_data_ones.drop(\"is_member\", 1)\n",
    "y_test_ones = test_data_ones[\"is_member\"]\n",
    "\n",
    "print(\"X_train shape:\", X_train.shape)\n",
    "print(\"y_train shape:\", y_train.shape)\n",
    "print(\"\\nX_test_zeros shape:\", X_test_zeros.shape)\n",
    "print(\"y_test_zeros shape:\", y_test_zeros.shape)\n",
    "print(\"\\nX_test_ones shape:\", X_test_ones.shape)\n",
    "print(\"y_test_ones shape:\", y_test_ones.shape)"
   ]
  },
  {
   "cell_type": "code",
   "execution_count": 42,
   "metadata": {},
   "outputs": [
    {
     "name": "stdout",
     "output_type": "stream",
     "text": [
      "Logit: Average Accuracy Score of 3-Fold Cross Validation: 0.809459965847\n",
      "Logit: Accuracy Score, on y_test_zeros: 0.2897\n",
      "Logit: Accuracy Score, on y_test_ones: 0.9569\n"
     ]
    }
   ],
   "source": [
    "# Testing different scores using Logit\n",
    "acc_score_cv = cross_val_score(logit, X_train, y_train, n_jobs=-1, scoring=\"accuracy\")\n",
    "\n",
    "print(\"Logit: Average Accuracy Score of 3-Fold Cross Validation:\", np.average(acc_score_cv))\n",
    "\n",
    "logit.fit(X_train, y_train)\n",
    "acc_score_zeros = accuracy_score(y_test_zeros, logit.predict(X_test_zeros))\n",
    "acc_score_ones = accuracy_score(y_test_ones, logit.predict(X_test_ones))\n",
    "\n",
    "print(\"Logit: Accuracy Score, on y_test_zeros:\", acc_score_zeros)\n",
    "print(\"Logit: Accuracy Score, on y_test_ones:\", acc_score_ones)"
   ]
  },
  {
   "cell_type": "markdown",
   "metadata": {},
   "source": [
    "Conclusion: Logit performs very poorly on predicting non-members, but very well on predicting members"
   ]
  },
  {
   "cell_type": "code",
   "execution_count": 44,
   "metadata": {
    "scrolled": true
   },
   "outputs": [
    {
     "name": "stdout",
     "output_type": "stream",
     "text": [
      "b_dtr: Average Accuracy Score of 3-Fold Cross Validation: 0.802019977841\n",
      "b_dtr: Accuracy Score, on y_test_zeros: 0.3015\n",
      "b_dtr: Accuracy Score, on y_test_ones: 0.9419\n"
     ]
    }
   ],
   "source": [
    "b_dtr = AdaBoostClassifier(DecisionTreeClassifier(max_depth=4))\n",
    "\n",
    "acc_score_cv = cross_val_score(b_dtr, X_train, y_train, n_jobs=-1, scoring=\"accuracy\")\n",
    "\n",
    "print(\"b_dtr: Average Accuracy Score of 3-Fold Cross Validation:\", np.average(acc_score_cv))\n",
    "\n",
    "b_dtr.fit(X_train, y_train)\n",
    "acc_score_zeros = accuracy_score(y_test_zeros, b_dtr.predict(X_test_zeros))\n",
    "acc_score_ones = accuracy_score(y_test_ones, b_dtr.predict(X_test_ones))\n",
    "\n",
    "print(\"b_dtr: Accuracy Score, on y_test_zeros:\", acc_score_zeros)\n",
    "print(\"b_dtr: Accuracy Score, on y_test_ones:\", acc_score_ones)"
   ]
  },
  {
   "cell_type": "markdown",
   "metadata": {},
   "source": [
    "Conclusion: Boosted Decision tree of depth 4 also performs very poorly on predicting non-members, but very well on predicting members"
   ]
  },
  {
   "cell_type": "code",
   "execution_count": 51,
   "metadata": {},
   "outputs": [
    {
     "name": "stdout",
     "output_type": "stream",
     "text": [
      "b_dtr_1: Accuracy Score, on y_test_zeros: 0.2271\n",
      "b_dtr_2: Accuracy Score, on y_test_zeros: 0.2621\n",
      "b_dtr_3: Accuracy Score, on y_test_zeros: 0.2804\n",
      "b_dtr_4: Accuracy Score, on y_test_zeros: 0.2995\n",
      "b_dtr_5: Accuracy Score, on y_test_zeros: 0.3107\n",
      "b_dtr_6: Accuracy Score, on y_test_zeros: 0.3335\n",
      "b_dtr_7: Accuracy Score, on y_test_zeros: 0.3382\n",
      "b_dtr_8: Accuracy Score, on y_test_zeros: 0.3565\n",
      "b_dtr_9: Accuracy Score, on y_test_zeros: 0.358\n",
      "b_dtr_10: Accuracy Score, on y_test_zeros: 0.369\n",
      "b_dtr_11: Accuracy Score, on y_test_zeros: 0.3637\n",
      "b_dtr_12: Accuracy Score, on y_test_zeros: 0.3729\n",
      "b_dtr_13: Accuracy Score, on y_test_zeros: 0.3707\n",
      "b_dtr_14: Accuracy Score, on y_test_zeros: 0.3801\n"
     ]
    }
   ],
   "source": [
    "for n in range(1,15):\n",
    "    b_dtr = AdaBoostClassifier(DecisionTreeClassifier(max_depth=n))\n",
    "    b_dtr.fit(X_train, y_train)\n",
    "    acc_score_zeros = accuracy_score(y_test_zeros, b_dtr.predict(X_test_zeros))\n",
    "    \n",
    "    print(f\"b_dtr_{n}: Accuracy Score, on y_test_zeros:\", acc_score_zeros)"
   ]
  },
  {
   "cell_type": "markdown",
   "metadata": {},
   "source": [
    "Boosted Decision Tree of maximum depth of 14 is the best at predicting 0s."
   ]
  },
  {
   "cell_type": "code",
   "execution_count": null,
   "metadata": {},
   "outputs": [],
   "source": []
  }
 ],
 "metadata": {
  "kernelspec": {
   "display_name": "Python 3",
   "language": "python",
   "name": "python3"
  },
  "language_info": {
   "codemirror_mode": {
    "name": "ipython",
    "version": 3
   },
   "file_extension": ".py",
   "mimetype": "text/x-python",
   "name": "python",
   "nbconvert_exporter": "python",
   "pygments_lexer": "ipython3",
   "version": "3.6.3"
  }
 },
 "nbformat": 4,
 "nbformat_minor": 2
}
